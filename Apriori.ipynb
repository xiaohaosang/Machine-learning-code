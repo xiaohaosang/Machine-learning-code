{
 "cells": [
  {
   "cell_type": "code",
   "execution_count": 1,
   "metadata": {},
   "outputs": [],
   "source": [
    "def loadDataSet():\n",
    "    return [[1,3,4],[1,4,3],[2,3,5],[1,2,3,5],[2,5]]"
   ]
  },
  {
   "cell_type": "code",
   "execution_count": 2,
   "metadata": {},
   "outputs": [],
   "source": [
    "# 创建C1集合，集合数据为非重复的所有的商品\n",
    "def createC1(dataSet):\n",
    "    C1 =[]\n",
    "    for transaction in dataSet:\n",
    "        for item in transaction:\n",
    "            if not [item] in C1:\n",
    "                C1.append([item])\n",
    "    C1.sort()\n",
    "    return list(map(frozenset,C1))"
   ]
  },
  {
   "cell_type": "code",
   "execution_count": 3,
   "metadata": {},
   "outputs": [],
   "source": [
    "# 根据记录数据D，计算CK(K为C中每个元素的包含个数)中，满足最小支持度的元素\n",
    "def scanD(D,Ck,minSupport):\n",
    "    ssCnt = {}\n",
    "    for tid in D:\n",
    "        for can in Ck:\n",
    "            if can.issubset(tid):  #判断can(Ck中的元素)是否是tid的子集\n",
    "                if can not in ssCnt.keys():\n",
    "                    ssCnt[can]=1\n",
    "                else:\n",
    "                    ssCnt[can] += 1\n",
    "    numItems = float(len(D))  \n",
    "    # print(numItems)\n",
    "    retList = []\n",
    "    supportData ={}\n",
    "    # print(ssCnt.keys())\n",
    "    for key in ssCnt.keys():\n",
    "        support = ssCnt[key]/numItems\n",
    "        if support >= minSupport:\n",
    "            retList.insert(0,key)\n",
    "        supportData[key] = support\n",
    "    return retList,supportData"
   ]
  },
  {
   "cell_type": "code",
   "execution_count": 4,
   "metadata": {},
   "outputs": [
    {
     "name": "stdout",
     "output_type": "stream",
     "text": [
      "[[1, 3, 4], [1, 4, 3], [2, 3, 5], [1, 2, 3, 5], [2, 5]]\n",
      "[frozenset({1}), frozenset({2}), frozenset({3}), frozenset({4}), frozenset({5})]\n",
      "[{1, 3, 4}, {1, 3, 4}, {2, 3, 5}, {1, 2, 3, 5}, {2, 5}]\n",
      "[frozenset({5}), frozenset({2}), frozenset({3}), frozenset({1})] {frozenset({1}): 0.6, frozenset({3}): 0.8, frozenset({4}): 0.4, frozenset({2}): 0.6, frozenset({5}): 0.6}\n"
     ]
    }
   ],
   "source": [
    "dataSet = loadDataSet()\n",
    "print(dataSet)\n",
    "C1 = createC1(dataSet)\n",
    "print(C1)\n",
    "D = list(map(set,dataSet))\n",
    "print(D)\n",
    "L1,suppData0 = scanD(D,C1,0.5)\n",
    "print(L1,suppData0)"
   ]
  },
  {
   "cell_type": "code",
   "execution_count": 5,
   "metadata": {},
   "outputs": [
    {
     "name": "stdout",
     "output_type": "stream",
     "text": [
      "aprioriGen test\n",
      "[frozenset({2, 3, 5}), frozenset({3, 4, 5}), frozenset({1, 3, 4})]\n"
     ]
    }
   ],
   "source": [
    "# 通过Lk，和k，生成C(k+1),例如L1和2，生成C2\n",
    "def aprioriGen(Lk,k):\n",
    "    retList =[]\n",
    "    lenLk = len(Lk)\n",
    "    for i in range(lenLk):\n",
    "        for j in range(i+1,lenLk):\n",
    "            L1 = list(Lk[i])[:k-2]; L2 = list(Lk[j])[:k-2] #前k-2个项相同时，将两个集合合并，例如{1，3}，{1，4}，合并成{1，3，4}\n",
    "            L1.sort();L2.sort()\n",
    "            if L1==L2:\n",
    "                retList.append(Lk[i] | Lk[j])\n",
    "    return retList\n",
    "\n",
    "print(\"aprioriGen test\")\n",
    "retList= aprioriGen([frozenset({2, 3}), frozenset({3, 5}), frozenset({2, 5}), frozenset({1, 3}), frozenset({1, 4}), frozenset({3, 4})],3)\n",
    "print(retList)"
   ]
  },
  {
   "cell_type": "code",
   "execution_count": 6,
   "metadata": {},
   "outputs": [
    {
     "name": "stdout",
     "output_type": "stream",
     "text": [
      "apriori test\n",
      "[frozenset({5}), frozenset({2}), frozenset({3}), frozenset({1})]\n",
      "[frozenset({2, 5}), frozenset({1, 3})]\n",
      "[]\n",
      "{frozenset({1}): 0.6, frozenset({3}): 0.8, frozenset({4}): 0.4, frozenset({2}): 0.6, frozenset({5}): 0.6, frozenset({1, 3}): 0.6, frozenset({2, 5}): 0.6, frozenset({3, 5}): 0.4, frozenset({2, 3}): 0.4, frozenset({1, 5}): 0.2, frozenset({1, 2}): 0.2}\n"
     ]
    }
   ],
   "source": [
    "def apriori(dataSet,minSupport=0.5):\n",
    "    C1 = createC1(dataSet)\n",
    "    D = list(map(set,dataSet))   \n",
    "    L1,supportData = scanD(D,C1,minSupport)\n",
    "    L = [L1]\n",
    "    k = 2\n",
    "    while (len(L[k-2])>0):\n",
    "        Ck = aprioriGen(L[k-2],k)  # 通过Lk，和k，生成Ck,例如L1和2，生成C2，\n",
    "        Lk,supK = scanD(D,Ck,minSupport) #C2通过scanD生成L2，如此循环\n",
    "        supportData.update(supK)\n",
    "        L.append(Lk)\n",
    "        k += 1\n",
    "    return L,supportData\n",
    "\n",
    "print(\"apriori test\")\n",
    "L,suppData = apriori(dataSet,minSupport=0.5)\n",
    "print(L[0])\n",
    "print(L[1])\n",
    "print(L[2])\n",
    "print(suppData)"
   ]
  },
  {
   "cell_type": "code",
   "execution_count": 13,
   "metadata": {},
   "outputs": [],
   "source": [
    "def calcConf(freqSet,H,supportData,br1,minConf=0.7):\n",
    "    print(\"====== in calcConf:\")\n",
    "    print(\"freqSet:\",freqSet)\n",
    "    print(\"H:\",H)\n",
    "    prunedH =[]\n",
    "    for conseq in H:\n",
    "        print(\"conseq:\",conseq)\n",
    "        conf = supportData[freqSet]/supportData[freqSet-conseq]\n",
    "        if conf >= minConf:\n",
    "            print(freqSet-conseq,'-->',conseq,'conf:',conf)\n",
    "            br1.append((freqSet-conseq,conseq,conf))\n",
    "            prunedH.append(conseq)\n",
    "    return prunedH"
   ]
  },
  {
   "cell_type": "code",
   "execution_count": 35,
   "metadata": {},
   "outputs": [],
   "source": [
    "'''\n",
    "def rulesFromConseq(freqSet,H,supportData,br1,minConf=0.7):\n",
    "    print(\"====== in rulesFromConseq:\")\n",
    "    print(\"freqSet:\",freqSet)\n",
    "    m = len(H[0])\n",
    "    if (len(freqSet)>(m+1)):   # 最初进入到该函数，m=1，len(freqSet)=3,则if为True\n",
    "        print(\"H:\",H)\n",
    "        Hmp1 = aprioriGen(H,m+1)   \n",
    "        #生成二元频繁集合，为什么会跳过一元频繁集合? 例如{a,b,c},直接生成{b,c},计算 {a}->{b,c}的可信度，应该先生成{c}，计算{a，b}->{c}\n",
    "        Hmp1 = calcConf(freqSet, Hmp1,supportData,br1,minConf)\n",
    "        print(\"Hmp1:\",Hmp1)\n",
    "        if (len(Hmp1)>1):   #\n",
    "            rulesFromConseq(freqSet,Hmp1,supportData,br1,minConf)\n",
    "'''\n",
    "def rulesFromConseq(freqSet,H,supportData,br1,minConf=0.7):\n",
    "    print(\"====== in rulesFromConseq:\")\n",
    "    print(\"freqSet:\",freqSet)\n",
    "    m = len(H[0])            \n",
    "    while(len(freqSet)>m):\n",
    "        print(\"H:\",H)\n",
    "        H = calcConf(freqSet, H,supportData,br1,minConf)\n",
    "        if (len(H)>1):\n",
    "            H = aprioriGen(H,m+1)\n",
    "            m += 1\n",
    "        else:\n",
    "            break\n",
    "            "
   ]
  },
  {
   "cell_type": "code",
   "execution_count": 33,
   "metadata": {},
   "outputs": [],
   "source": [
    "def generateRules(L,supportData,minConf=0.7):\n",
    "    bigRuleList = []\n",
    "    for i in range(1,len(L)): # 规则不包括一元素频繁集合\n",
    "        print(\"\\n第{}级频繁集合:{}:\".format(i,L[i]))\n",
    "        for freqSet in L[i]:\n",
    "            print(\"频繁集合:\",freqSet)\n",
    "            H1 = [frozenset([item]) for item in freqSet]\n",
    "            print(\"H1:\",H1)\n",
    "            if(i>1):  \n",
    "                rulesFromConseq(freqSet,H1,supportData,bigRuleList,minConf) #三元素及以上频繁集合，调用rulesFromConseq\n",
    "            else:\n",
    "                calcConf(freqSet,H1,supportData,bigRuleList,minConf)   #二元素频繁集合，直接计算calcConf\n",
    "    return bigRuleList"
   ]
  },
  {
   "cell_type": "code",
   "execution_count": 37,
   "metadata": {
    "scrolled": false
   },
   "outputs": [
    {
     "name": "stdout",
     "output_type": "stream",
     "text": [
      "L: [[frozenset({5}), frozenset({2}), frozenset({4}), frozenset({3}), frozenset({1})], [frozenset({2, 3}), frozenset({3, 5}), frozenset({2, 5}), frozenset({1, 3}), frozenset({1, 4}), frozenset({3, 4})], [frozenset({2, 3, 5}), frozenset({1, 3, 4})], []]\n",
      "suppData {frozenset({1}): 0.6, frozenset({3}): 0.8, frozenset({4}): 0.4, frozenset({2}): 0.6, frozenset({5}): 0.6, frozenset({3, 4}): 0.4, frozenset({1, 4}): 0.4, frozenset({1, 3}): 0.6, frozenset({2, 5}): 0.6, frozenset({3, 5}): 0.4, frozenset({2, 3}): 0.4, frozenset({1, 5}): 0.2, frozenset({1, 2}): 0.2, frozenset({1, 3, 4}): 0.4, frozenset({2, 3, 5}): 0.4}\n",
      "\n",
      "第1级频繁集合:[frozenset({2, 3}), frozenset({3, 5}), frozenset({2, 5}), frozenset({1, 3}), frozenset({1, 4}), frozenset({3, 4})]:\n",
      "频繁集合: frozenset({2, 3})\n",
      "H1: [frozenset({2}), frozenset({3})]\n",
      "====== in calcConf:\n",
      "freqSet: frozenset({2, 3})\n",
      "H: [frozenset({2}), frozenset({3})]\n",
      "conseq: frozenset({2})\n",
      "frozenset({3}) --> frozenset({2}) conf: 0.5\n",
      "conseq: frozenset({3})\n",
      "frozenset({2}) --> frozenset({3}) conf: 0.6666666666666667\n",
      "频繁集合: frozenset({3, 5})\n",
      "H1: [frozenset({3}), frozenset({5})]\n",
      "====== in calcConf:\n",
      "freqSet: frozenset({3, 5})\n",
      "H: [frozenset({3}), frozenset({5})]\n",
      "conseq: frozenset({3})\n",
      "frozenset({5}) --> frozenset({3}) conf: 0.6666666666666667\n",
      "conseq: frozenset({5})\n",
      "frozenset({3}) --> frozenset({5}) conf: 0.5\n",
      "频繁集合: frozenset({2, 5})\n",
      "H1: [frozenset({2}), frozenset({5})]\n",
      "====== in calcConf:\n",
      "freqSet: frozenset({2, 5})\n",
      "H: [frozenset({2}), frozenset({5})]\n",
      "conseq: frozenset({2})\n",
      "frozenset({5}) --> frozenset({2}) conf: 1.0\n",
      "conseq: frozenset({5})\n",
      "frozenset({2}) --> frozenset({5}) conf: 1.0\n",
      "频繁集合: frozenset({1, 3})\n",
      "H1: [frozenset({1}), frozenset({3})]\n",
      "====== in calcConf:\n",
      "freqSet: frozenset({1, 3})\n",
      "H: [frozenset({1}), frozenset({3})]\n",
      "conseq: frozenset({1})\n",
      "frozenset({3}) --> frozenset({1}) conf: 0.7499999999999999\n",
      "conseq: frozenset({3})\n",
      "frozenset({1}) --> frozenset({3}) conf: 1.0\n",
      "频繁集合: frozenset({1, 4})\n",
      "H1: [frozenset({1}), frozenset({4})]\n",
      "====== in calcConf:\n",
      "freqSet: frozenset({1, 4})\n",
      "H: [frozenset({1}), frozenset({4})]\n",
      "conseq: frozenset({1})\n",
      "frozenset({4}) --> frozenset({1}) conf: 1.0\n",
      "conseq: frozenset({4})\n",
      "frozenset({1}) --> frozenset({4}) conf: 0.6666666666666667\n",
      "频繁集合: frozenset({3, 4})\n",
      "H1: [frozenset({3}), frozenset({4})]\n",
      "====== in calcConf:\n",
      "freqSet: frozenset({3, 4})\n",
      "H: [frozenset({3}), frozenset({4})]\n",
      "conseq: frozenset({3})\n",
      "frozenset({4}) --> frozenset({3}) conf: 1.0\n",
      "conseq: frozenset({4})\n",
      "frozenset({3}) --> frozenset({4}) conf: 0.5\n",
      "\n",
      "第2级频繁集合:[frozenset({2, 3, 5}), frozenset({1, 3, 4})]:\n",
      "频繁集合: frozenset({2, 3, 5})\n",
      "H1: [frozenset({2}), frozenset({3}), frozenset({5})]\n",
      "====== in rulesFromConseq:\n",
      "freqSet: frozenset({2, 3, 5})\n",
      "H: [frozenset({2}), frozenset({3}), frozenset({5})]\n",
      "====== in calcConf:\n",
      "freqSet: frozenset({2, 3, 5})\n",
      "H: [frozenset({2}), frozenset({3}), frozenset({5})]\n",
      "conseq: frozenset({2})\n",
      "frozenset({3, 5}) --> frozenset({2}) conf: 1.0\n",
      "conseq: frozenset({3})\n",
      "frozenset({2, 5}) --> frozenset({3}) conf: 0.6666666666666667\n",
      "conseq: frozenset({5})\n",
      "frozenset({2, 3}) --> frozenset({5}) conf: 1.0\n",
      "H: [frozenset({2, 3}), frozenset({2, 5}), frozenset({3, 5})]\n",
      "====== in calcConf:\n",
      "freqSet: frozenset({2, 3, 5})\n",
      "H: [frozenset({2, 3}), frozenset({2, 5}), frozenset({3, 5})]\n",
      "conseq: frozenset({2, 3})\n",
      "frozenset({5}) --> frozenset({2, 3}) conf: 0.6666666666666667\n",
      "conseq: frozenset({2, 5})\n",
      "frozenset({3}) --> frozenset({2, 5}) conf: 0.5\n",
      "conseq: frozenset({3, 5})\n",
      "frozenset({2}) --> frozenset({3, 5}) conf: 0.6666666666666667\n",
      "频繁集合: frozenset({1, 3, 4})\n",
      "H1: [frozenset({1}), frozenset({3}), frozenset({4})]\n",
      "====== in rulesFromConseq:\n",
      "freqSet: frozenset({1, 3, 4})\n",
      "H: [frozenset({1}), frozenset({3}), frozenset({4})]\n",
      "====== in calcConf:\n",
      "freqSet: frozenset({1, 3, 4})\n",
      "H: [frozenset({1}), frozenset({3}), frozenset({4})]\n",
      "conseq: frozenset({1})\n",
      "frozenset({3, 4}) --> frozenset({1}) conf: 1.0\n",
      "conseq: frozenset({3})\n",
      "frozenset({1, 4}) --> frozenset({3}) conf: 1.0\n",
      "conseq: frozenset({4})\n",
      "frozenset({1, 3}) --> frozenset({4}) conf: 0.6666666666666667\n",
      "H: [frozenset({1, 3}), frozenset({1, 4}), frozenset({3, 4})]\n",
      "====== in calcConf:\n",
      "freqSet: frozenset({1, 3, 4})\n",
      "H: [frozenset({1, 3}), frozenset({1, 4}), frozenset({3, 4})]\n",
      "conseq: frozenset({1, 3})\n",
      "frozenset({4}) --> frozenset({1, 3}) conf: 1.0\n",
      "conseq: frozenset({1, 4})\n",
      "frozenset({3}) --> frozenset({1, 4}) conf: 0.5\n",
      "conseq: frozenset({3, 4})\n",
      "frozenset({1}) --> frozenset({3, 4}) conf: 0.6666666666666667\n",
      "\n",
      "第3级频繁集合:[]:\n"
     ]
    }
   ],
   "source": [
    "L,suppData = apriori(dataSet,minSupport=0.4)\n",
    "print(\"L:\",L)\n",
    "print(\"suppData\",suppData)\n",
    "rules = generateRules(L,suppData,minConf=0.4)"
   ]
  }
 ],
 "metadata": {
  "kernelspec": {
   "display_name": "Python 3",
   "language": "python",
   "name": "python3"
  },
  "language_info": {
   "codemirror_mode": {
    "name": "ipython",
    "version": 3
   },
   "file_extension": ".py",
   "mimetype": "text/x-python",
   "name": "python",
   "nbconvert_exporter": "python",
   "pygments_lexer": "ipython3",
   "version": "3.7.0"
  }
 },
 "nbformat": 4,
 "nbformat_minor": 2
}
