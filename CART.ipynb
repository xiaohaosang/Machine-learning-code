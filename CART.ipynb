{
 "cells": [
  {
   "cell_type": "code",
   "execution_count": 2,
   "metadata": {},
   "outputs": [],
   "source": [
    "import numpy as np\n",
    "from collections import Counter\n",
    "\n",
    "def loadDataSet(filename):\n",
    "    dataMat=[]\n",
    "    fr = open(fileName)\n",
    "    for line in fr.readlines():\n",
    "        curline = line.strip().split('\\t')\n",
    "        fltline = map(float,curLine)\n",
    "        dataMat.append(fltline)\n",
    "    return dataMat\n"
   ]
  },
  {
   "cell_type": "code",
   "execution_count": 3,
   "metadata": {},
   "outputs": [
    {
     "name": "stdout",
     "output_type": "stream",
     "text": [
      "mat0: [[0. 1. 0. 0.]]\n",
      "mat1: [[1. 0. 0. 0.]\n",
      " [0. 0. 1. 0.]\n",
      " [0. 0. 0. 1.]]\n"
     ]
    }
   ],
   "source": [
    "def binSplitDataSet(dataSet,feature,value):\n",
    "    # print(dataSet[:,feature]>value)\n",
    "    nonzeroData_1 = np.nonzero(dataSet[:,feature]>value)\n",
    "    nonzeroData_2 = np.nonzero(dataSet[:,feature]<=value)\n",
    "    # mat0 = dataSet[nonzeroData_1[0],:][0]  原书有误，去掉最后的[0] \n",
    "    # mat1 = dataSet[nonzeroData_2[0],:][0]  同理原书有误，去掉最后的[0] \n",
    "    mat0 = dataSet[nonzeroData_1[0],:]\n",
    "    mat1 = dataSet[nonzeroData_2[0],:]\n",
    "    # print(\"nonzeroData_1\",nonzeroData_1)\n",
    "    # print(\"nonzeroData_2:\",nonzeroData_2)\n",
    "    return mat0,mat1\n",
    "\n",
    "testMat=np.mat(np.eye(4))\n",
    "mat0,mat1=binSplitDataSet(testMat,1,0.5)\n",
    "print(\"mat0:\",mat0)\n",
    "print(\"mat1:\",mat1)"
   ]
  },
  {
   "cell_type": "code",
   "execution_count": 62,
   "metadata": {},
   "outputs": [
    {
     "name": "stdout",
     "output_type": "stream",
     "text": [
      "Counter({-1: 3, 1: 2, 2: 2, 7: 1, 3: 1})\n",
      "[(-1, 3)]\n"
     ]
    },
    {
     "data": {
      "text/plain": [
       "1.3333333333333335"
      ]
     },
     "execution_count": 62,
     "metadata": {},
     "output_type": "execute_result"
    }
   ],
   "source": [
    "def regLeaf(dataSet):\n",
    "    return np.mean(dataSet[:,-1])\n",
    "\n",
    "def classifyLeaf(dataSet):\n",
    "    # return np.argmax(np.bincount(dataSet[:,-1].flatten()))\n",
    "    counts = Counter(dataSet[:,-1].flatten())\n",
    "    return counts.most_common(1)[0][0]\n",
    "    \n",
    "def regErr(dataSet):\n",
    "    return np.var(dataSet[:,-1])*np.shape(dataSet)[0] \n",
    "\n",
    "import math\n",
    "def giniErr(dataSet):\n",
    "    counts = Counter(dataSet[:,-1].flatten())\n",
    "    jini = 1\n",
    "    count_all = len(dataSet)\n",
    "    for label,count in counts.items():\n",
    "        # print(label,count)\n",
    "        p = float(count)/float(count_all)\n",
    "        # print(\"p:\",p)\n",
    "        jini = jini-math.pow(float(count)/float(count_all),2)\n",
    "        # print(\"jini\",jini)\n",
    "    return jini*count_all\n",
    "    \n",
    "counts = Counter([-1,-1,-1,1,2,7,2,3,1])\n",
    "print(counts)\n",
    "print(counts.most_common(1))\n",
    "# test = np.bincount([-1,-1,-1,1,2,7,2,3,1])\n",
    "# print(test)\n",
    "# print(np.argmax(test))\n",
    "test_dataSet = np.array([[1,1],[2,1],[1,0]])\n",
    "giniErr(test_dataSet)"
   ]
  },
  {
   "cell_type": "code",
   "execution_count": 10,
   "metadata": {},
   "outputs": [
    {
     "name": "stdout",
     "output_type": "stream",
     "text": [
      "[[1 2 3 4]\n",
      " [2 3 1 4]\n",
      " [0 1 3 3]]\n",
      "(None, 3.6666666666666665)\n"
     ]
    }
   ],
   "source": [
    "def chooseBestSplit(dataSet,leafType=regLeaf,errType=regErr,ops=(1,2)): \n",
    "    dataSet=np.array(dataSet)  #dataSet 统一转换为array\n",
    "    tolS = ops[0];tolN = ops[1]\n",
    "    # print((dataSet[:,-1].flatten().tolist()))\n",
    "    if len(set(dataSet[:,-1].flatten().tolist()))==1:\n",
    "    #if len(set(dataSet[:,-1].T.tolist()[0]))==1: #判断1，unhashable type: 'matrix'，所以要转置，再转为list\n",
    "        return None,leafType(dataSet)\n",
    "    m,n = np.shape(dataSet)\n",
    "    S = errType(dataSet)\n",
    "    bestS = np.inf;bestIndex = 0;bestValue = 0\n",
    "    for featIndex in range(n-1):\n",
    "        # for splitVal in set(dataSet[:,featIndex]): 原书中有误，没有T.tolist\n",
    "        for splitVal in set(dataSet[:,featIndex].T.tolist()):\n",
    "            # print(\"featIndex\",featIndex,\"splitVal\",splitVal)\n",
    "            \n",
    "            mat0, mat1 = binSplitDataSet(dataSet,featIndex,splitVal)\n",
    "            if (np.shape(mat0)[0]<tolN) or (np.shape(mat1)[0]<tolN): #判断2，根据splitVal切分，如果切分为二后，有一类的的记录少于tolN，则跳过\n",
    "                continue \n",
    "                \n",
    "            newS =errType(mat0) + errType(mat1)  #计算二分之后的误差和\n",
    "            # print(\"bestS:\",newS)\n",
    "            if newS < bestS:   \n",
    "                bestIndex = featIndex\n",
    "                bestValue = splitVal\n",
    "                bestS = newS\n",
    "                \n",
    "    if (S-bestS)< tolS:  #如果误差减少不大则退出\n",
    "        # print(\"small than tolS \")\n",
    "        return None, leafType(dataSet)\n",
    "    \n",
    "    mat0,mat1= binSplitDataSet(dataSet,bestIndex,bestValue)\n",
    "    if np.shape(mat0)[0]<tolN or np.shape(mat1)[0]<tolN: \n",
    "        # 如果最优bestIndex,bestValue切分后，有一类的的记录少于tolN，则退出,这种情况发生只有一种可能，所有情况组合切分后，判断2都为真，\n",
    "        # 一直continue，所以bestIndex，bestValue都等于初始值0，代入binSplitDataSet后，该判断也为真\n",
    "        return None, leafType(dataSet)\n",
    "#   原书中的以上三条代码可以由以下语句替换，逻辑更为清楚\n",
    "#     if beatS == np.inf:\n",
    "#         return None, leafType(dataSet)\n",
    "    return bestIndex,bestValue\n",
    "\n",
    "dataSet=np.mat([[1,2,3,4],[2,3,1,4],[0,1,3,3]])\n",
    "print(dataSet)\n",
    "print(chooseBestSplit(dataSet,ops=(100,2)))\n"
   ]
  },
  {
   "cell_type": "code",
   "execution_count": 68,
   "metadata": {},
   "outputs": [],
   "source": [
    "def createTree(dataSet,leafType=regLeaf,errType=regErr,ops=(1,2),layer=999): #对 ,\n",
    "    feat,val = chooseBestSplit(dataSet,leafType,errType,ops)\n",
    "    if feat == None: return val\n",
    "    if layer ==0:return leafType(dataSet)\n",
    "    retTree = {}\n",
    "    retTree['spInd'] = feat\n",
    "    retTree['spVal'] = val\n",
    "    lSet,rSet = binSplitDataSet(dataSet,feat,val)\n",
    "    retTree['left']=createTree(lSet,leafType,errType,ops,layer=layer-1)\n",
    "    retTree['right']=createTree(rSet,leafType,errType,ops,layer=layer-1)\n",
    "    return retTree"
   ]
  },
  {
   "cell_type": "code",
   "execution_count": 69,
   "metadata": {},
   "outputs": [],
   "source": [
    "def regTreeEval(model, inDat):\n",
    "    return float(model)\n",
    "\n",
    "def isTree(obj):\n",
    "    return (type(obj).__name__=='dict')"
   ]
  },
  {
   "cell_type": "code",
   "execution_count": 70,
   "metadata": {},
   "outputs": [],
   "source": [
    "def treeForeCast(tree, inData, modelEval=regTreeEval):\n",
    "    if not isTree(tree): return modelEval(tree, inData)\n",
    "    if inData[tree['spInd']] > tree['spVal']:\n",
    "        if isTree(tree['left']): return treeForeCast(tree['left'], inData, modelEval)\n",
    "        else: return modelEval(tree['left'], inData)\n",
    "    else:\n",
    "        if isTree(tree['right']): return treeForeCast(tree['right'], inData, modelEval)\n",
    "        else: return modelEval(tree['right'], inData)"
   ]
  },
  {
   "cell_type": "code",
   "execution_count": 76,
   "metadata": {},
   "outputs": [],
   "source": [
    "from sklearn import datasets\n",
    "from sklearn.model_selection import train_test_split\n",
    "iris_dataset=datasets.load_iris()\n",
    "data_x = iris_dataset.data\n",
    "data_y = iris_dataset.target\n",
    "x_train,x_test,y_train,y_test=train_test_split(data_x,data_y,random_state=0,test_size=0.25)\n",
    "# print(x_train)\n",
    "# print(y_train)"
   ]
  },
  {
   "cell_type": "code",
   "execution_count": 80,
   "metadata": {},
   "outputs": [
    {
     "name": "stdout",
     "output_type": "stream",
     "text": [
      "[[5.9 3.  4.2 1.5 1. ]\n",
      " [5.8 2.6 4.  1.2 1. ]\n",
      " [6.8 3.  5.5 2.1 2. ]\n",
      " [4.7 3.2 1.3 0.2 0. ]\n",
      " [6.9 3.1 5.1 2.3 2. ]\n",
      " [5.  3.5 1.6 0.6 0. ]\n",
      " [5.4 3.7 1.5 0.2 0. ]\n",
      " [5.  2.  3.5 1.  1. ]\n",
      " [6.5 3.  5.5 1.8 2. ]\n",
      " [6.7 3.3 5.7 2.5 2. ]\n",
      " [6.  2.2 5.  1.5 2. ]\n",
      " [6.7 2.5 5.8 1.8 2. ]\n",
      " [5.6 2.5 3.9 1.1 1. ]\n",
      " [7.7 3.  6.1 2.3 2. ]\n",
      " [6.3 3.3 4.7 1.6 1. ]\n",
      " [5.5 2.4 3.8 1.1 1. ]\n",
      " [6.3 2.7 4.9 1.8 2. ]\n",
      " [6.3 2.8 5.1 1.5 2. ]\n",
      " [4.9 2.5 4.5 1.7 2. ]\n",
      " [6.3 2.5 5.  1.9 2. ]\n",
      " [7.  3.2 4.7 1.4 1. ]\n",
      " [6.5 3.  5.2 2.  2. ]\n",
      " [6.  3.4 4.5 1.6 1. ]\n",
      " [4.8 3.1 1.6 0.2 0. ]\n",
      " [5.8 2.7 5.1 1.9 2. ]\n",
      " [5.6 2.7 4.2 1.3 1. ]\n",
      " [5.6 2.9 3.6 1.3 1. ]\n",
      " [5.5 2.5 4.  1.3 1. ]\n",
      " [6.1 3.  4.6 1.4 1. ]\n",
      " [7.2 3.2 6.  1.8 2. ]\n",
      " [5.3 3.7 1.5 0.2 0. ]\n",
      " [4.3 3.  1.1 0.1 0. ]\n",
      " [6.4 2.7 5.3 1.9 2. ]\n",
      " [5.7 3.  4.2 1.2 1. ]\n",
      " [5.4 3.4 1.7 0.2 0. ]\n",
      " [5.7 4.4 1.5 0.4 0. ]\n",
      " [6.9 3.1 4.9 1.5 1. ]\n",
      " [4.6 3.1 1.5 0.2 0. ]\n",
      " [5.9 3.  5.1 1.8 2. ]\n",
      " [5.1 2.5 3.  1.1 1. ]\n",
      " [4.6 3.4 1.4 0.3 0. ]\n",
      " [6.2 2.2 4.5 1.5 1. ]\n",
      " [7.2 3.6 6.1 2.5 2. ]\n",
      " [5.7 2.9 4.2 1.3 1. ]\n",
      " [4.8 3.  1.4 0.1 0. ]\n",
      " [7.1 3.  5.9 2.1 2. ]\n",
      " [6.9 3.2 5.7 2.3 2. ]\n",
      " [6.5 3.  5.8 2.2 2. ]\n",
      " [6.4 2.8 5.6 2.1 2. ]\n",
      " [5.1 3.8 1.6 0.2 0. ]\n",
      " [4.8 3.4 1.6 0.2 0. ]\n",
      " [6.5 3.2 5.1 2.  2. ]\n",
      " [6.7 3.3 5.7 2.1 2. ]\n",
      " [4.5 2.3 1.3 0.3 0. ]\n",
      " [6.2 3.4 5.4 2.3 2. ]\n",
      " [4.9 3.  1.4 0.2 0. ]\n",
      " [5.7 2.5 5.  2.  2. ]\n",
      " [6.9 3.1 5.4 2.1 2. ]\n",
      " [4.4 3.2 1.3 0.2 0. ]\n",
      " [5.  3.6 1.4 0.2 0. ]\n",
      " [7.2 3.  5.8 1.6 2. ]\n",
      " [5.1 3.5 1.4 0.3 0. ]\n",
      " [4.4 3.  1.3 0.2 0. ]\n",
      " [5.4 3.9 1.7 0.4 0. ]\n",
      " [5.5 2.3 4.  1.3 1. ]\n",
      " [6.8 3.2 5.9 2.3 2. ]\n",
      " [7.6 3.  6.6 2.1 2. ]\n",
      " [5.1 3.5 1.4 0.2 0. ]\n",
      " [4.9 3.1 1.5 0.1 0. ]\n",
      " [5.2 3.4 1.4 0.2 0. ]\n",
      " [5.7 2.8 4.5 1.3 1. ]\n",
      " [6.6 3.  4.4 1.4 1. ]\n",
      " [5.  3.2 1.2 0.2 0. ]\n",
      " [5.1 3.3 1.7 0.5 0. ]\n",
      " [6.4 2.9 4.3 1.3 1. ]\n",
      " [5.4 3.4 1.5 0.4 0. ]\n",
      " [7.7 2.6 6.9 2.3 2. ]\n",
      " [4.9 2.4 3.3 1.  1. ]\n",
      " [7.9 3.8 6.4 2.  2. ]\n",
      " [6.7 3.1 4.4 1.4 1. ]\n",
      " [5.2 4.1 1.5 0.1 0. ]\n",
      " [6.  3.  4.8 1.8 2. ]\n",
      " [5.8 4.  1.2 0.2 0. ]\n",
      " [7.7 2.8 6.7 2.  2. ]\n",
      " [5.1 3.8 1.5 0.3 0. ]\n",
      " [4.7 3.2 1.6 0.2 0. ]\n",
      " [7.4 2.8 6.1 1.9 2. ]\n",
      " [5.  3.3 1.4 0.2 0. ]\n",
      " [6.3 3.4 5.6 2.4 2. ]\n",
      " [5.7 2.8 4.1 1.3 1. ]\n",
      " [5.8 2.7 3.9 1.2 1. ]\n",
      " [5.7 2.6 3.5 1.  1. ]\n",
      " [6.4 3.2 5.3 2.3 2. ]\n",
      " [6.7 3.  5.2 2.3 2. ]\n",
      " [6.3 2.5 4.9 1.5 1. ]\n",
      " [6.7 3.  5.  1.7 1. ]\n",
      " [5.  3.  1.6 0.2 0. ]\n",
      " [5.5 2.4 3.7 1.  1. ]\n",
      " [6.7 3.1 5.6 2.4 2. ]\n",
      " [5.8 2.7 5.1 1.9 2. ]\n",
      " [5.1 3.4 1.5 0.2 0. ]\n",
      " [6.6 2.9 4.6 1.3 1. ]\n",
      " [5.6 3.  4.1 1.3 1. ]\n",
      " [5.9 3.2 4.8 1.8 1. ]\n",
      " [6.3 2.3 4.4 1.3 1. ]\n",
      " [5.5 3.5 1.3 0.2 0. ]\n",
      " [5.1 3.7 1.5 0.4 0. ]\n",
      " [4.9 3.1 1.5 0.1 0. ]\n",
      " [6.3 2.9 5.6 1.8 2. ]\n",
      " [5.8 2.7 4.1 1.  1. ]\n",
      " [7.7 3.8 6.7 2.2 2. ]\n",
      " [4.6 3.2 1.4 0.2 0. ]]\n",
      "{'spInd': 2, 'spVal': 1.7, 'left': {'spInd': 2, 'spVal': 4.9, 'left': 2.0, 'right': 1.0}, 'right': 0.0}\n",
      "Test set score:0.96429\n",
      "[2.0, 1.0, 0.0, 2.0, 0.0, 2.0, 0.0, 1.0, 1.0, 1.0, 2.0, 1.0, 1.0, 1.0, 1.0, 0.0, 1.0, 1.0, 0.0, 0.0, 1.0, 1.0, 1.0, 0.0, 1.0, 0.0, 1.0, 1.0, 1.0, 0.0, 2.0, 1.0, 0.0, 1.0, 2.0, 1.0, 0.0, 2.0]\n",
      "Test set score:0.84211\n"
     ]
    }
   ],
   "source": [
    "dataSet = np.hstack((x_train,y_train.reshape((len(y_train),1))))\n",
    "print(dataSet)\n",
    "retTree = createTree(dataSet,leafType=classifyLeaf,errType=giniErr,ops=(0,1),layer=2) #leafType=classifyLeaf，归类\n",
    "print(retTree)\n",
    "y_pred_train=[treeForeCast(retTree,i) for i in x_train]\n",
    "# print(y_pred_train)\n",
    "print('Test set score:{:.5f}'.format(np.mean(y_pred_train==y_train)))\n",
    "\n",
    "y_pred=[treeForeCast(retTree,i) for i in x_test]\n",
    "print(y_pred)\n",
    "print('Test set score:{:.5f}'.format(np.mean(y_pred==y_test))) "
   ]
  },
  {
   "cell_type": "code",
   "execution_count": 81,
   "metadata": {},
   "outputs": [
    {
     "name": "stdout",
     "output_type": "stream",
     "text": [
      "Test set score:0.96429\n",
      "[2 1 0 2 0 2 0 1 1 1 2 1 1 1 1 0 1 1 0 0 1 1 0 0 1 0 0 1 1 0 2 1 0 1 2 1 0\n",
      " 2]\n",
      "Test set score:0.89474\n"
     ]
    }
   ],
   "source": [
    "from sklearn.tree import DecisionTreeClassifier\n",
    "tree = DecisionTreeClassifier(max_depth=2) # random_state=0\n",
    "tree.fit(x_train,y_train)\n",
    "y_pred_train = tree.predict(x_train)\n",
    "print('Test set score:{:.5f}'.format(np.mean(y_pred_train==y_train)))\n",
    "y_pred = tree.predict(x_test)\n",
    "print(y_pred)\n",
    "print('Test set score:{:.5f}'.format(np.mean(y_pred==y_test)))"
   ]
  }
 ],
 "metadata": {
  "kernelspec": {
   "display_name": "Python 3",
   "language": "python",
   "name": "python3"
  },
  "language_info": {
   "codemirror_mode": {
    "name": "ipython",
    "version": 3
   },
   "file_extension": ".py",
   "mimetype": "text/x-python",
   "name": "python",
   "nbconvert_exporter": "python",
   "pygments_lexer": "ipython3",
   "version": "3.7.0"
  }
 },
 "nbformat": 4,
 "nbformat_minor": 2
}
