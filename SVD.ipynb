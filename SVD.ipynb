{
 "cells": [
  {
   "cell_type": "code",
   "execution_count": 2,
   "metadata": {},
   "outputs": [],
   "source": [
    "import numpy as np\n",
    "def ecludSim(inA,inB):\n",
    "    return 1.0/(1.0 + np.linalg.norm(inA - inB))\n",
    "\n",
    "def pearsSim(inA,inB):\n",
    "    if len(inA) < 3 : return 1.0\n",
    "    return 0.5+0.5*np.corrcoef(inA, inB, rowvar = 0)[0][1]\n",
    "\n",
    "def cosSim(inA,inB):\n",
    "    num = float(inA.T*inB)\n",
    "    denom = np.linalg.norm(inA)*np.linalg.norm(inB)\n",
    "    return 0.5+0.5*(num/denom)"
   ]
  },
  {
   "cell_type": "code",
   "execution_count": 16,
   "metadata": {},
   "outputs": [
    {
     "name": "stdout",
     "output_type": "stream",
     "text": [
      "[[ True  True False  True  True]\n",
      " [ True False False  True  True]]\n",
      "[ True False False  True]\n",
      "(array([0, 3], dtype=int64),)\n",
      "(array([0, 0], dtype=int64), array([0, 3], dtype=int64))\n",
      "(array([0, 3], dtype=int64), array([0, 0], dtype=int64))\n"
     ]
    }
   ],
   "source": [
    "def standEst(dataMat, user, simMeas, item):\n",
    "    n = np.shape(dataMat)[1]\n",
    "    simTotal = 0.0; ratSimTotal = 0.0\n",
    "    for j in range(n):\n",
    "        userRating = dataMat[user,j]   \n",
    "        if userRating == 0: continue\n",
    "        overLap = np.nonzero(np.logical_and(dataMat[:,item].A>0, \\  # item列和j列都非零的行坐标\n",
    "                                      dataMat[:,j].A>0))[0]\n",
    "        print(\"overLap:\",overLap) \n",
    "        if len(overLap) == 0: similarity = 0\n",
    "        else: \n",
    "            similarity = simMeas(dataMat[overLap,item], \\\n",
    "                                   dataMat[overLap,j])\n",
    "            \n",
    "        print('the %d and %d similarity is: %f' % (item, j, similarity))\n",
    "        simTotal += similarity\n",
    "        ratSimTotal += similarity * userRating   # 第j个商品的与item商品的相似度*第j个商品的评分，累加\n",
    "    if simTotal == 0: return 0\n",
    "    else: return ratSimTotal/simTotal\n",
    "    \n",
    "print(np.array([[4,4,0,2,2],\n",
    "        [4,0,0,3,3]])>0)\n",
    "print(np.logical_and(np.array([True,False,True,True]),np.array([True,True,False,True])))\n",
    "print(np.nonzero(np.array([ True,False,False,True])))\n",
    "print(np.nonzero(np.array([[True,False,False,True]])))\n",
    "print(np.nonzero(np.array([[True],[False],[False],[True]])))"
   ]
  },
  {
   "cell_type": "code",
   "execution_count": 17,
   "metadata": {},
   "outputs": [],
   "source": [
    "def recommend(dataMat, user, N=3, simMeas=cosSim, estMethod=standEst):\n",
    "    print(np.nonzero(dataMat[user,:].A==0))\n",
    "    unratedItems =np.nonzero(dataMat[user,:].A==0)[1] # user行找到没有评分的商品(列)的index\n",
    "    print(\"unratedItems:\",unratedItems)\n",
    "    if len(unratedItems) == 0: return 'you rated everything'\n",
    "    itemScores = []\n",
    "    for item in unratedItems:\n",
    "        estimatedScore = estMethod(dataMat, user, simMeas, item)\n",
    "        itemScores.append((item, estimatedScore))\n",
    "    return sorted(itemScores, key=lambda jj: jj[1], reverse=True)[:N]"
   ]
  },
  {
   "cell_type": "code",
   "execution_count": 23,
   "metadata": {},
   "outputs": [
    {
     "name": "stdout",
     "output_type": "stream",
     "text": [
      "(array([0, 0], dtype=int64), array([1, 2], dtype=int64))\n",
      "unratedItems: [1 2]\n",
      "overLap: [0 3 4 5 6]\n",
      "the 1 and 0 similarity is: 1.000000\n",
      "overLap: [0 3]\n",
      "the 1 and 3 similarity is: 0.928746\n",
      "overLap: [0]\n",
      "the 1 and 4 similarity is: 1.000000\n",
      "overLap: [3 4 5 6]\n",
      "the 2 and 0 similarity is: 1.000000\n",
      "overLap: [3]\n",
      "the 2 and 3 similarity is: 1.000000\n",
      "overLap: []\n",
      "the 2 and 4 similarity is: 0.000000\n"
     ]
    },
    {
     "data": {
      "text/plain": [
       "[(2, 2.5), (1, 2.0243290220056256)]"
      ]
     },
     "execution_count": 23,
     "metadata": {},
     "output_type": "execute_result"
    }
   ],
   "source": [
    "myMat =np.mat([[4,4,0,2,2],\n",
    "        [4,0,0,3,3],\n",
    "        [4,0,0,1,1],\n",
    "        [1,1,1,2,0],\n",
    "        [2,2,2,0,0],\n",
    "        [1,1,1,0,0],\n",
    "        [5,5,5,0,0]])\n",
    "recommend(myMat,2)"
   ]
  },
  {
   "cell_type": "code",
   "execution_count": 32,
   "metadata": {},
   "outputs": [],
   "source": [
    "def svdEst(dataMat, user, simMeas, item):\n",
    "    n = np.shape(dataMat)[1]\n",
    "    simTotal = 0.0; ratSimTotal = 0.0\n",
    "    U,Sigma,VT = np.linalg.svd(dataMat)\n",
    "    Sig4 = np.mat(np.eye(4)*Sigma[:4]) \n",
    "    xformedItems = dataMat.T * U[:,:4] * Sig4.I  # .I返回矩阵的逆矩阵,其中数学原理还是不太懂\n",
    "    print(\"xformedItems:\",xformedItems)  # 以下与standEst部分一致\n",
    "    for j in range(n):\n",
    "        userRating = dataMat[user,j]\n",
    "        if userRating == 0 or j==item: continue\n",
    "        similarity = simMeas(xformedItems[item,:].T,\\\n",
    "                             xformedItems[j,:].T)\n",
    "        print('the %d and %d similarity is: %f' % (item, j, similarity))\n",
    "        simTotal += similarity\n",
    "        ratSimTotal += similarity * userRating\n",
    "    if simTotal == 0: return 0\n",
    "    else: return ratSimTotal/simTotal"
   ]
  },
  {
   "cell_type": "code",
   "execution_count": 33,
   "metadata": {},
   "outputs": [
    {
     "name": "stdout",
     "output_type": "stream",
     "text": [
      "(array([0, 0], dtype=int64), array([1, 2], dtype=int64))\n",
      "unratedItems: [1 2]\n",
      "xformedItems: [[-0.72506083  0.27691869  0.41122905 -0.38106455]\n",
      " [-0.51452694 -0.39611316 -0.7522123  -0.1112701 ]\n",
      " [-0.35115882 -0.55606743  0.4531718   0.50325279]\n",
      " [-0.22150588  0.48633454 -0.21296214  0.7647803 ]\n",
      " [-0.192799    0.46976392 -0.11979054 -0.06524181]]\n",
      "the 1 and 0 similarity is: 0.498142\n",
      "the 1 and 3 similarity is: 0.498131\n",
      "the 1 and 4 similarity is: 0.509974\n",
      "xformedItems: [[-0.72506083  0.27691869  0.41122905 -0.38106455]\n",
      " [-0.51452694 -0.39611316 -0.7522123  -0.1112701 ]\n",
      " [-0.35115882 -0.55606743  0.4531718   0.50325279]\n",
      " [-0.22150588  0.48633454 -0.21296214  0.7647803 ]\n",
      " [-0.192799    0.46976392 -0.11979054 -0.06524181]]\n",
      "the 2 and 0 similarity is: 0.552670\n",
      "the 2 and 3 similarity is: 0.552976\n",
      "the 2 and 4 similarity is: 0.217301\n"
     ]
    },
    {
     "data": {
      "text/plain": [
       "[(2, 2.2532707559777143), (1, 1.9921514636756925)]"
      ]
     },
     "execution_count": 33,
     "metadata": {},
     "output_type": "execute_result"
    }
   ],
   "source": [
    "recommend(myMat,2,estMethod=svdEst)"
   ]
  }
 ],
 "metadata": {
  "kernelspec": {
   "display_name": "Python 3",
   "language": "python",
   "name": "python3"
  },
  "language_info": {
   "codemirror_mode": {
    "name": "ipython",
    "version": 3
   },
   "file_extension": ".py",
   "mimetype": "text/x-python",
   "name": "python",
   "nbconvert_exporter": "python",
   "pygments_lexer": "ipython3",
   "version": "3.7.0"
  }
 },
 "nbformat": 4,
 "nbformat_minor": 2
}
